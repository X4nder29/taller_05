{
 "cells": [
  {
   "cell_type": "code",
   "execution_count": 1,
   "id": "00c21a14-6aae-4b4f-89dd-80f075210824",
   "metadata": {
    "execution": {
     "iopub.execute_input": "2025-04-04T00:55:08.488186Z",
     "iopub.status.busy": "2025-04-04T00:55:08.487923Z",
     "iopub.status.idle": "2025-04-04T00:55:09.142325Z",
     "shell.execute_reply": "2025-04-04T00:55:09.141287Z",
     "shell.execute_reply.started": "2025-04-04T00:55:08.488169Z"
    },
    "trusted": true
   },
   "outputs": [],
   "source": [
    "# ==========================================\n",
    "# 1. Cargar y preprocesar el dataset\n",
    "# ==========================================\n",
    "import pandas as pd\n",
    "from sklearn.feature_extraction.text import TfidfVectorizer\n",
    "from sklearn.model_selection import train_test_split\n",
    "from sklearn.svm import SVC\n",
    "from sklearn.metrics import accuracy_score, classification_report\n",
    "\n",
    "# Cargar datos\n",
    "df = pd.read_csv('./dataset/spam.csv', encoding='latin-1')[['v1', 'v2']]\n",
    "df.columns = ['label', 'message']\n",
    "\n",
    "# Vectorización del texto\n",
    "vectorizer = TfidfVectorizer(max_features=5000)\n",
    "X = vectorizer.fit_transform(df['message'])\n",
    "y = df['label']\n",
    "\n",
    "# Dividir en entrenamiento y prueba\n",
    "X_train, X_test, y_train, y_test = train_test_split(X, y, test_size=0.2, random_state=42)\n",
    "\n",
    "# Entrenar modelo SVM\n",
    "model = SVC(kernel='linear')\n",
    "model.fit(X_train, y_train)\n",
    "\n",
    "# Evaluación\n",
    "y_pred = model.predict(X_test)"
   ]
  },
  {
   "cell_type": "code",
   "execution_count": null,
   "id": "55b1ff63-a890-4f61-9df9-f1617e841a53",
   "metadata": {
    "execution": {
     "iopub.execute_input": "2025-04-04T00:55:39.059720Z",
     "iopub.status.busy": "2025-04-04T00:55:39.059436Z",
     "iopub.status.idle": "2025-04-04T00:55:39.071022Z",
     "shell.execute_reply": "2025-04-04T00:55:39.069948Z",
     "shell.execute_reply.started": "2025-04-04T00:55:39.059699Z"
    },
    "trusted": true
   },
   "outputs": [
    {
     "data": {
      "application/vnd.jupyter.widget-view+json": {
       "model_id": "a417c9ce47d8462cadc89335fe893c62",
       "version_major": 2,
       "version_minor": 0
      },
      "text/plain": [
       "Text(value='', description='Mensaje:', layout=Layout(width='80%'), placeholder='Escribe un mensaje aquí...')"
      ]
     },
     "metadata": {},
     "output_type": "display_data"
    },
    {
     "data": {
      "application/vnd.jupyter.widget-view+json": {
       "model_id": "4b81d243eaec4e42b5a473a6a9726664",
       "version_major": 2,
       "version_minor": 0
      },
      "text/plain": [
       "Output()"
      ]
     },
     "metadata": {},
     "output_type": "display_data"
    }
   ],
   "source": [
    "# ==========================================\n",
    "# 2. Celda interactiva para ingresar texto\n",
    "# ==========================================\n",
    "import ipywidgets as widgets\n",
    "from IPython.display import display\n",
    "\n",
    "title = widgets.HTML(value=\"<h1 style='color:darkblue;'>Taller 05</h1>\")\n",
    "authors = widgets.HTML(value=\"<h3 style='color:darkblue;'>Carlos Polanco, Alexander Pérez, Sebastián Núñez</h3>\")\n",
    "\n",
    "# Widget de entrada y salida\n",
    "input_box = widgets.Text(\n",
    "    value='',\n",
    "    placeholder='Escribe un mensaje aquí...',\n",
    "    description='Mensaje:',\n",
    "    layout=widgets.Layout(width='80%')\n",
    ")\n",
    "\n",
    "output = widgets.Output(\n",
    "    layout=widgets.Layout(width='80%', align_items='center', justify_content='center')\n",
    ")\n",
    "\n",
    "layout = widgets.VBox([\n",
    "    title,\n",
    "    authors,\n",
    "    input_box,\n",
    "    output\n",
    "],\n",
    "layout=widgets.Layout(align_items='center', justify_content='center', width='100%', height='100%'))\n",
    "\n",
    "# Función de predicción\n",
    "def verificar_mensaje(change):\n",
    "    output.clear_output()\n",
    "    mensaje = input_box.value.strip()\n",
    "    if not mensaje:\n",
    "        return\n",
    "    mensaje_vectorizado = vectorizer.transform([mensaje])\n",
    "    prediccion = model.predict(mensaje_vectorizado)[0]\n",
    "    with output:\n",
    "        print(f\"🔍 Predicción: {'📨 HAM (No es spam)' if prediccion == 'ham' else '🚫 SPAM'}\")\n",
    "\n",
    "# Vincular evento al texto\n",
    "input_box.observe(verificar_mensaje, names='value')\n",
    "\n",
    "# Mostrar widgets\n",
    "display(layout)"
   ]
  }
 ],
 "metadata": {
  "kaggle": {
   "accelerator": "none",
   "dataSources": [
    {
     "datasetId": 7044158,
     "sourceId": 11268980,
     "sourceType": "datasetVersion"
    }
   ],
   "dockerImageVersionId": 30918,
   "isGpuEnabled": false,
   "isInternetEnabled": true,
   "language": "python",
   "sourceType": "notebook"
  },
  "kernelspec": {
   "display_name": ".venv",
   "language": "python",
   "name": "python3"
  },
  "language_info": {
   "codemirror_mode": {
    "name": "ipython",
    "version": 3
   },
   "file_extension": ".py",
   "mimetype": "text/x-python",
   "name": "python",
   "nbconvert_exporter": "python",
   "pygments_lexer": "ipython3",
   "version": "3.11.9"
  }
 },
 "nbformat": 4,
 "nbformat_minor": 5
}
